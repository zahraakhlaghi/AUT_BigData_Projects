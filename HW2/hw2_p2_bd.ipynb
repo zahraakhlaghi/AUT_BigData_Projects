{
  "nbformat": 4,
  "nbformat_minor": 0,
  "metadata": {
    "colab": {
      "provenance": []
    },
    "kernelspec": {
      "name": "python3",
      "display_name": "Python 3"
    },
    "language_info": {
      "name": "python"
    }
  },
  "cells": [
    {
      "cell_type": "code",
      "source": [
        "pip install bitarray"
      ],
      "metadata": {
        "colab": {
          "base_uri": "https://localhost:8080/"
        },
        "id": "7a7Ln61r6Vsx",
        "outputId": "9a68777d-ed66-4df9-d60a-839498e933d2"
      },
      "execution_count": 8,
      "outputs": [
        {
          "output_type": "stream",
          "name": "stdout",
          "text": [
            "Looking in indexes: https://pypi.org/simple, https://us-python.pkg.dev/colab-wheels/public/simple/\n",
            "Requirement already satisfied: bitarray in /usr/local/lib/python3.10/dist-packages (2.7.3)\n"
          ]
        }
      ]
    },
    {
      "cell_type": "code",
      "source": [
        "import math\n",
        "import numpy as np\n",
        "from bitarray import bitarray"
      ],
      "metadata": {
        "id": "ePrSv03i6DXu"
      },
      "execution_count": 38,
      "outputs": []
    },
    {
      "cell_type": "markdown",
      "source": [
        "Convert characters to numbers"
      ],
      "metadata": {
        "id": "MnC8bR_i0BDq"
      }
    },
    {
      "cell_type": "code",
      "source": [
        "def string_to_num(s):\n",
        "    return [ord(c) for c in s]"
      ],
      "metadata": {
        "id": "y1KFBSOH7HfQ"
      },
      "execution_count": 39,
      "outputs": []
    },
    {
      "cell_type": "markdown",
      "source": [
        "Implementation of the first hash function"
      ],
      "metadata": {
        "id": "-bDSFAN80Y6V"
      }
    },
    {
      "cell_type": "code",
      "source": [
        "def hashI(p, C, M):\n",
        "\n",
        "  l = len(C)\n",
        "  \n",
        "  multiply = 1\n",
        "  for x in C:\n",
        "        multiply = multiply * x\n",
        "  sum=0\n",
        "  for x in C:\n",
        "        sum = sum + x\n",
        "\n",
        "  x =  (min(C) + multiply *p + (sum*pow(p,math.floor(l/2))) + max(C) * pow(p,(l-1)))% M\n",
        "\n",
        "  return x"
      ],
      "metadata": {
        "id": "Gxend8d96GLe"
      },
      "execution_count": 40,
      "outputs": []
    },
    {
      "cell_type": "markdown",
      "source": [
        "Implementation of the secound hash function"
      ],
      "metadata": {
        "id": "5ww_qmbM0aOn"
      }
    },
    {
      "cell_type": "code",
      "source": [
        "def hashII(p, C, M):\n",
        "    l = len(C)\n",
        "    return sum(ci * p**i for i, ci in enumerate(C)) % M\n"
      ],
      "metadata": {
        "id": "nD3fWAMP6GRC"
      },
      "execution_count": 41,
      "outputs": []
    },
    {
      "cell_type": "code",
      "execution_count": 42,
      "metadata": {
        "id": "jir-evYh6Aht"
      },
      "outputs": [],
      "source": [
        "class BloomFilter:\n",
        "    def __init__(self, size, hash_functions):\n",
        "        self.size = size\n",
        "        self.hash_functions = hash_functions\n",
        "        self.bit_array = bitarray(size)\n",
        "        self.bit_array.setall(0)\n",
        "\n",
        "    def add(self, s):\n",
        "        for hash_func in self.hash_functions:\n",
        "            index = hash_func(s) % self.size\n",
        "            self.bit_array[index] = 1\n",
        "\n",
        "    def lookup(self, s):\n",
        "        for hash_func in self.hash_functions:\n",
        "            index = hash_func(s) % self.size\n",
        "            if self.bit_array[index] == 0:\n",
        "                return False\n",
        "        return True"
      ]
    },
    {
      "cell_type": "code",
      "source": [
        "from google.colab import drive\n",
        "import pandas as pd        \n",
        "\n",
        "drive.mount('/content/drive')\n",
        "\n",
        "path = \"/content/drive/My Drive/user_dataset.csv\"\n",
        "user_dataset = pd.read_csv(path)\n",
        "user_dataset"
      ],
      "metadata": {
        "colab": {
          "base_uri": "https://localhost:8080/",
          "height": 441
        },
        "id": "-rYVPFtZ8H3j",
        "outputId": "f57a6c4f-a6f9-4e98-c152-980a36b40781"
      },
      "execution_count": 43,
      "outputs": [
        {
          "output_type": "stream",
          "name": "stdout",
          "text": [
            "Drive already mounted at /content/drive; to attempt to forcibly remount, call drive.mount(\"/content/drive\", force_remount=True).\n"
          ]
        },
        {
          "output_type": "execute_result",
          "data": {
            "text/plain": [
              "                   UserNames\n",
              "0              anonquestion5\n",
              "1                      Lyulf\n",
              "2                   cniblock\n",
              "3       dontwantthisaccounts\n",
              "4                StanSheeran\n",
              "...                      ...\n",
              "999995               fgf6100\n",
              "999996               J_D2000\n",
              "999997     ThrowawayAAApeD95\n",
              "999998               abir102\n",
              "999999                Haunt_\n",
              "\n",
              "[1000000 rows x 1 columns]"
            ],
            "text/html": [
              "\n",
              "  <div id=\"df-be6dae31-fd2b-419e-beae-c25083391750\">\n",
              "    <div class=\"colab-df-container\">\n",
              "      <div>\n",
              "<style scoped>\n",
              "    .dataframe tbody tr th:only-of-type {\n",
              "        vertical-align: middle;\n",
              "    }\n",
              "\n",
              "    .dataframe tbody tr th {\n",
              "        vertical-align: top;\n",
              "    }\n",
              "\n",
              "    .dataframe thead th {\n",
              "        text-align: right;\n",
              "    }\n",
              "</style>\n",
              "<table border=\"1\" class=\"dataframe\">\n",
              "  <thead>\n",
              "    <tr style=\"text-align: right;\">\n",
              "      <th></th>\n",
              "      <th>UserNames</th>\n",
              "    </tr>\n",
              "  </thead>\n",
              "  <tbody>\n",
              "    <tr>\n",
              "      <th>0</th>\n",
              "      <td>anonquestion5</td>\n",
              "    </tr>\n",
              "    <tr>\n",
              "      <th>1</th>\n",
              "      <td>Lyulf</td>\n",
              "    </tr>\n",
              "    <tr>\n",
              "      <th>2</th>\n",
              "      <td>cniblock</td>\n",
              "    </tr>\n",
              "    <tr>\n",
              "      <th>3</th>\n",
              "      <td>dontwantthisaccounts</td>\n",
              "    </tr>\n",
              "    <tr>\n",
              "      <th>4</th>\n",
              "      <td>StanSheeran</td>\n",
              "    </tr>\n",
              "    <tr>\n",
              "      <th>...</th>\n",
              "      <td>...</td>\n",
              "    </tr>\n",
              "    <tr>\n",
              "      <th>999995</th>\n",
              "      <td>fgf6100</td>\n",
              "    </tr>\n",
              "    <tr>\n",
              "      <th>999996</th>\n",
              "      <td>J_D2000</td>\n",
              "    </tr>\n",
              "    <tr>\n",
              "      <th>999997</th>\n",
              "      <td>ThrowawayAAApeD95</td>\n",
              "    </tr>\n",
              "    <tr>\n",
              "      <th>999998</th>\n",
              "      <td>abir102</td>\n",
              "    </tr>\n",
              "    <tr>\n",
              "      <th>999999</th>\n",
              "      <td>Haunt_</td>\n",
              "    </tr>\n",
              "  </tbody>\n",
              "</table>\n",
              "<p>1000000 rows × 1 columns</p>\n",
              "</div>\n",
              "      <button class=\"colab-df-convert\" onclick=\"convertToInteractive('df-be6dae31-fd2b-419e-beae-c25083391750')\"\n",
              "              title=\"Convert this dataframe to an interactive table.\"\n",
              "              style=\"display:none;\">\n",
              "        \n",
              "  <svg xmlns=\"http://www.w3.org/2000/svg\" height=\"24px\"viewBox=\"0 0 24 24\"\n",
              "       width=\"24px\">\n",
              "    <path d=\"M0 0h24v24H0V0z\" fill=\"none\"/>\n",
              "    <path d=\"M18.56 5.44l.94 2.06.94-2.06 2.06-.94-2.06-.94-.94-2.06-.94 2.06-2.06.94zm-11 1L8.5 8.5l.94-2.06 2.06-.94-2.06-.94L8.5 2.5l-.94 2.06-2.06.94zm10 10l.94 2.06.94-2.06 2.06-.94-2.06-.94-.94-2.06-.94 2.06-2.06.94z\"/><path d=\"M17.41 7.96l-1.37-1.37c-.4-.4-.92-.59-1.43-.59-.52 0-1.04.2-1.43.59L10.3 9.45l-7.72 7.72c-.78.78-.78 2.05 0 2.83L4 21.41c.39.39.9.59 1.41.59.51 0 1.02-.2 1.41-.59l7.78-7.78 2.81-2.81c.8-.78.8-2.07 0-2.86zM5.41 20L4 18.59l7.72-7.72 1.47 1.35L5.41 20z\"/>\n",
              "  </svg>\n",
              "      </button>\n",
              "      \n",
              "  <style>\n",
              "    .colab-df-container {\n",
              "      display:flex;\n",
              "      flex-wrap:wrap;\n",
              "      gap: 12px;\n",
              "    }\n",
              "\n",
              "    .colab-df-convert {\n",
              "      background-color: #E8F0FE;\n",
              "      border: none;\n",
              "      border-radius: 50%;\n",
              "      cursor: pointer;\n",
              "      display: none;\n",
              "      fill: #1967D2;\n",
              "      height: 32px;\n",
              "      padding: 0 0 0 0;\n",
              "      width: 32px;\n",
              "    }\n",
              "\n",
              "    .colab-df-convert:hover {\n",
              "      background-color: #E2EBFA;\n",
              "      box-shadow: 0px 1px 2px rgba(60, 64, 67, 0.3), 0px 1px 3px 1px rgba(60, 64, 67, 0.15);\n",
              "      fill: #174EA6;\n",
              "    }\n",
              "\n",
              "    [theme=dark] .colab-df-convert {\n",
              "      background-color: #3B4455;\n",
              "      fill: #D2E3FC;\n",
              "    }\n",
              "\n",
              "    [theme=dark] .colab-df-convert:hover {\n",
              "      background-color: #434B5C;\n",
              "      box-shadow: 0px 1px 3px 1px rgba(0, 0, 0, 0.15);\n",
              "      filter: drop-shadow(0px 1px 2px rgba(0, 0, 0, 0.3));\n",
              "      fill: #FFFFFF;\n",
              "    }\n",
              "  </style>\n",
              "\n",
              "      <script>\n",
              "        const buttonEl =\n",
              "          document.querySelector('#df-be6dae31-fd2b-419e-beae-c25083391750 button.colab-df-convert');\n",
              "        buttonEl.style.display =\n",
              "          google.colab.kernel.accessAllowed ? 'block' : 'none';\n",
              "\n",
              "        async function convertToInteractive(key) {\n",
              "          const element = document.querySelector('#df-be6dae31-fd2b-419e-beae-c25083391750');\n",
              "          const dataTable =\n",
              "            await google.colab.kernel.invokeFunction('convertToInteractive',\n",
              "                                                     [key], {});\n",
              "          if (!dataTable) return;\n",
              "\n",
              "          const docLinkHtml = 'Like what you see? Visit the ' +\n",
              "            '<a target=\"_blank\" href=https://colab.research.google.com/notebooks/data_table.ipynb>data table notebook</a>'\n",
              "            + ' to learn more about interactive tables.';\n",
              "          element.innerHTML = '';\n",
              "          dataTable['output_type'] = 'display_data';\n",
              "          await google.colab.output.renderOutput(dataTable, element);\n",
              "          const docLink = document.createElement('div');\n",
              "          docLink.innerHTML = docLinkHtml;\n",
              "          element.appendChild(docLink);\n",
              "        }\n",
              "      </script>\n",
              "    </div>\n",
              "  </div>\n",
              "  "
            ]
          },
          "metadata": {},
          "execution_count": 43
        }
      ]
    },
    {
      "cell_type": "code",
      "source": [
        "p_values = [17, 31, 47, 61]\n",
        "M = 5000000 "
      ],
      "metadata": {
        "id": "UGOoALsw7mH4"
      },
      "execution_count": 44,
      "outputs": []
    },
    {
      "cell_type": "markdown",
      "source": [
        "ب)"
      ],
      "metadata": {
        "id": "kMQSCcWO1Cir"
      }
    },
    {
      "cell_type": "code",
      "source": [
        "hash_functions_I = [lambda s, p=p: hashI(p, string_to_num(s), M) for p in p_values]\n",
        "bloom_filter_I = BloomFilter(M, hash_functions_I)\n",
        "\n",
        "for user_name in user_dataset.UserNames:\n",
        "     bloom_filter_I.add(user_name)"
      ],
      "metadata": {
        "id": "cKWBNJ21_KMX"
      },
      "execution_count": 45,
      "outputs": []
    },
    {
      "cell_type": "code",
      "source": [
        "import csv\n",
        "\n",
        "path2 = \"/content/drive/My Drive/user_requests.csv\"\n",
        "user_requests = csv.reader(open(path2));\n",
        "\n",
        "user_requests"
      ],
      "metadata": {
        "colab": {
          "base_uri": "https://localhost:8080/"
        },
        "id": "36KgvzB09Dws",
        "outputId": "cf4e3d94-0999-4b72-b9d5-a24a6ea473ba"
      },
      "execution_count": 46,
      "outputs": [
        {
          "output_type": "execute_result",
          "data": {
            "text/plain": [
              "<_csv.reader at 0x7f8955c24eb0>"
            ]
          },
          "metadata": {},
          "execution_count": 46
        }
      ]
    },
    {
      "cell_type": "markdown",
      "source": [
        "د)"
      ],
      "metadata": {
        "id": "kzH7R64S1QHh"
      }
    },
    {
      "cell_type": "code",
      "source": [
        "def calculate_false_positive(user_requests, bloom_filter):\n",
        "    tp = 0\n",
        "    tn = 0\n",
        "    fp = 0\n",
        "    fn = 0\n",
        "\n",
        "    for row in user_requests:\n",
        "        username = row[0]\n",
        "        exists = (row[1] =='1')\n",
        "        predict =  bloom_filter.lookup(username)\n",
        "\n",
        "        if predict and exists:\n",
        "           tp += 1\n",
        "        elif (not predict) and (not exists):\n",
        "           tn += 1\n",
        "        elif predict and (not exists):\n",
        "           fp += 1\n",
        "        elif (not predict) and exists:\n",
        "           fn += 1\n",
        "\n",
        "\n",
        "    print(\"TP:{}, TN:{}, FP:{}, FN:{}\".format(tp, tn, fp, fn))\n",
        "    print(\"false positive rate of hash type:{}\".format(fp / (fp + tn)))"
      ],
      "metadata": {
        "id": "HxYGv9LS9fRs"
      },
      "execution_count": 47,
      "outputs": []
    },
    {
      "cell_type": "code",
      "source": [
        "calculate_false_positive(user_requests, bloom_filter_I)"
      ],
      "metadata": {
        "colab": {
          "base_uri": "https://localhost:8080/"
        },
        "id": "HZe1_Cc9_KPK",
        "outputId": "651daba6-d059-4738-a44c-b03b052723d3"
      },
      "execution_count": 48,
      "outputs": [
        {
          "output_type": "stream",
          "name": "stdout",
          "text": [
            "TP:2128, TN:41719, FP:6154, FN:0\n",
            "false positive rate of hash type:0.12854845111022914\n"
          ]
        }
      ]
    },
    {
      "cell_type": "markdown",
      "source": [
        "Use hash_function_II"
      ],
      "metadata": {
        "id": "_f9mFs-GA-lD"
      }
    },
    {
      "cell_type": "code",
      "source": [
        "user_dataset = pd.read_csv(path)"
      ],
      "metadata": {
        "id": "WAXSq_sLBO9P"
      },
      "execution_count": 49,
      "outputs": []
    },
    {
      "cell_type": "markdown",
      "source": [
        "ج)"
      ],
      "metadata": {
        "id": "qlJ-YzIc1fdc"
      }
    },
    {
      "cell_type": "code",
      "source": [
        "hash_functions_II = [lambda s, p=p: hashII(p, string_to_num(s), M) for p in p_values]\n",
        "bloom_filter_II = BloomFilter(M, hash_functions_II)"
      ],
      "metadata": {
        "id": "xiPwKUgB_a5G"
      },
      "execution_count": 50,
      "outputs": []
    },
    {
      "cell_type": "code",
      "source": [
        "for user_name in user_dataset.UserNames:\n",
        "     bloom_filter_II.add(user_name)"
      ],
      "metadata": {
        "id": "yLm1AcoC_a7l"
      },
      "execution_count": 51,
      "outputs": []
    },
    {
      "cell_type": "markdown",
      "source": [
        "ه)"
      ],
      "metadata": {
        "id": "ALIBzPQS1nXI"
      }
    },
    {
      "cell_type": "code",
      "source": [
        "user_requests = csv.reader(open(path2));\n",
        "\n",
        "calculate_false_positive(user_requests, bloom_filter_II)\n"
      ],
      "metadata": {
        "colab": {
          "base_uri": "https://localhost:8080/"
        },
        "id": "Zw4LH6J9BZdt",
        "outputId": "a373e2de-02f3-47ec-f1a5-35cf374fcd7b"
      },
      "execution_count": 37,
      "outputs": [
        {
          "output_type": "stream",
          "name": "stdout",
          "text": [
            "TP:2128, TN:43501, FP:4372, FN:0\n",
            "false positive rate of hash type:0.09132496396716312\n"
          ]
        }
      ]
    },
    {
      "cell_type": "code",
      "source": [],
      "metadata": {
        "id": "Rs3oyZ2P4Mxy"
      },
      "execution_count": 37,
      "outputs": []
    }
  ]
}