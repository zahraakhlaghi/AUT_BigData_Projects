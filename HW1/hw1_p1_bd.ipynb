{
  "cells": [
    {
      "cell_type": "code",
      "execution_count": 1,
      "metadata": {
        "colab": {
          "base_uri": "https://localhost:8080/"
        },
        "id": "Vqxhl3LiOJTe",
        "outputId": "7784c1a0-85b7-4c97-c015-03e7863b2df5"
      },
      "outputs": [
        {
          "output_type": "stream",
          "name": "stdout",
          "text": [
            "Looking in indexes: https://pypi.org/simple, https://us-python.pkg.dev/colab-wheels/public/simple/\n",
            "Collecting pyspark\n",
            "  Downloading pyspark-3.4.0.tar.gz (310.8 MB)\n",
            "\u001b[2K     \u001b[90m━━━━━━━━━━━━━━━━━━━━━━━━━━━━━━━━━━━━━━━\u001b[0m \u001b[32m310.8/310.8 MB\u001b[0m \u001b[31m3.0 MB/s\u001b[0m eta \u001b[36m0:00:00\u001b[0m\n",
            "\u001b[?25h  Preparing metadata (setup.py) ... \u001b[?25l\u001b[?25hdone\n",
            "Requirement already satisfied: py4j==0.10.9.7 in /usr/local/lib/python3.9/dist-packages (from pyspark) (0.10.9.7)\n",
            "Building wheels for collected packages: pyspark\n",
            "  Building wheel for pyspark (setup.py) ... \u001b[?25l\u001b[?25hdone\n",
            "  Created wheel for pyspark: filename=pyspark-3.4.0-py2.py3-none-any.whl size=311317145 sha256=b05ee9a91e0d5f130b479393e725c09b31874f39b54eda1e9aeb8c0d8b58af91\n",
            "  Stored in directory: /root/.cache/pip/wheels/9f/34/a4/159aa12d0a510d5ff7c8f0220abbea42e5d81ecf588c4fd884\n",
            "Successfully built pyspark\n",
            "Installing collected packages: pyspark\n",
            "Successfully installed pyspark-3.4.0\n"
          ]
        }
      ],
      "source": [
        "pip install pyspark"
      ]
    },
    {
      "cell_type": "code",
      "execution_count": 2,
      "metadata": {
        "id": "WO1qtgSOOOLK"
      },
      "outputs": [],
      "source": [
        "from pyspark import SparkContext"
      ]
    },
    {
      "cell_type": "markdown",
      "metadata": {
        "id": "KdJbyw4ALqkQ"
      },
      "source": [
        "Create a Spark context"
      ]
    },
    {
      "cell_type": "code",
      "execution_count": 3,
      "metadata": {
        "id": "j4kP3AoELlEJ"
      },
      "outputs": [],
      "source": [
        "sc = SparkContext()"
      ]
    },
    {
      "cell_type": "code",
      "execution_count": 4,
      "metadata": {
        "colab": {
          "base_uri": "https://localhost:8080/"
        },
        "id": "o5caVt02O6eA",
        "outputId": "0608d2d6-fa77-43e9-9a3d-ca1f65d8e059"
      },
      "outputs": [
        {
          "output_type": "stream",
          "name": "stdout",
          "text": [
            "Mounted at /content/drive\n"
          ]
        }
      ],
      "source": [
        "from google.colab import drive\n",
        "drive.mount('/content/drive')\n",
        "\n",
        "path = \"/content/drive/My Drive/data.txt\"\n",
        "# Read the text file into an RDD\n",
        "lines = sc.textFile(path)"
      ]
    },
    {
      "cell_type": "markdown",
      "metadata": {
        "id": "dCFJwxII6CN1"
      },
      "source": [
        "I use two-step map-reduce for this problem.<br/>\n",
        "First step:"
      ]
    },
    {
      "cell_type": "code",
      "execution_count": 5,
      "metadata": {
        "id": "5bKNJUVDRNZ9"
      },
      "outputs": [],
      "source": [
        "# Map each line to a list of channel IDs\n",
        "channel_lists = lines.map(lambda line: line.split())\n",
        "\n",
        "# Map each channel pair to a key-value pair, where the key is the pair and the value is the count\n",
        "channel_pairs = channel_lists.flatMap(lambda channel_list: [(tuple(sorted((channel_list[0], channel))), 1) for channel in channel_list[1:]])\n",
        "\n",
        "# Reduce the key-value pairs by summing up the counts for each pair\n",
        "total_counts = channel_pairs.reduceByKey(lambda count1, count2: ((count1 + count2)/2))"
      ]
    },
    {
      "cell_type": "markdown",
      "metadata": {
        "id": "WFFBuX3q6ccl"
      },
      "source": [
        "Secound step:"
      ]
    },
    {
      "cell_type": "code",
      "execution_count": 6,
      "metadata": {
        "id": "PrRtawCERbMc"
      },
      "outputs": [],
      "source": [
        "# Map each channel pair to a key-value pair, where the key is a channel and the value is the total count\n",
        "channel_counts = total_counts.flatMap(lambda pair: [(pair[0][0], pair[1]), (pair[0][1], pair[1])])\n",
        "\n",
        "# Reduce the key-value pairs by summing up the counts for each channel\n",
        "total_channel_counts = channel_counts.reduceByKey(lambda count1, count2: count1 + count2)"
      ]
    },
    {
      "cell_type": "markdown",
      "metadata": {
        "id": "RsDin6wk8nO3"
      },
      "source": [
        "In this part, I show 5 best links for link exchange\n"
      ]
    },
    {
      "cell_type": "code",
      "execution_count": 7,
      "metadata": {
        "colab": {
          "base_uri": "https://localhost:8080/"
        },
        "id": "6VHRBn-pr6Q_",
        "outputId": "adf574e2-c628-4182-fcb8-be8b13178280"
      },
      "outputs": [
        {
          "output_type": "stream",
          "name": "stdout",
          "text": [
            "Channel 859 has been advertised 1933.0 times.\n",
            "Channel 5306 has been advertised 1741.0 times.\n",
            "Channel 2664 has been advertised 1528.0 times.\n",
            "Channel 5716 has been advertised 1426.0 times.\n",
            "Channel 6306 has been advertised 1394.0 times.\n"
          ]
        }
      ],
      "source": [
        "# Sort the key-value pairs by count in descending order\n",
        "sorted_counts = total_channel_counts.sortBy(lambda pair: pair[1], ascending=False)\n",
        "\n",
        "# Take the top five key-value pairs and output the channel IDs with the highest counts\n",
        "top_channels = sorted_counts.take(5)\n",
        "for channel, count in top_channels:\n",
        "    print(f'Channel {channel} has been advertised {count} times.')"
      ]
    },
    {
      "cell_type": "markdown",
      "metadata": {
        "id": "LLutYy-8ryX2"
      },
      "source": [
        "Filter for the key-value pair where the key is 1748"
      ]
    },
    {
      "cell_type": "code",
      "execution_count": 8,
      "metadata": {
        "colab": {
          "base_uri": "https://localhost:8080/"
        },
        "id": "MlrSJUG-p-Gt",
        "outputId": "681ee32d-09ab-4c03-c7a4-f2cab7c2fa10"
      },
      "outputs": [
        {
          "output_type": "execute_result",
          "data": {
            "text/plain": [
              "130.0"
            ]
          },
          "metadata": {},
          "execution_count": 8
        }
      ],
      "source": [
        "filtered_counts = total_counts.filter(lambda pair: \"1748\" in pair[0])\n",
        "\n",
        "# Sum up the counts for the filtered pair\n",
        "count_1748 = filtered_counts.map(lambda pair: pair[1]).sum()\n",
        "count_1748"
      ]
    },
    {
      "cell_type": "markdown",
      "metadata": {
        "id": "E0dg4xMArqjV"
      },
      "source": [
        "\n",
        "Filter for the key-value pair where the key is 5633"
      ]
    },
    {
      "cell_type": "code",
      "execution_count": 9,
      "metadata": {
        "colab": {
          "base_uri": "https://localhost:8080/"
        },
        "id": "N58cj8UZrRpV",
        "outputId": "77ec0cfc-0799-4ea8-a3dc-625b0509a36f"
      },
      "outputs": [
        {
          "output_type": "execute_result",
          "data": {
            "text/plain": [
              "30.0"
            ]
          },
          "metadata": {},
          "execution_count": 9
        }
      ],
      "source": [
        "filtered_counts = total_counts.filter(lambda pair: \"5633\" in pair[0])\n",
        "\n",
        "# Sum up the counts for the filtered pair\n",
        "count_5633 = filtered_counts.map(lambda pair: pair[1]).sum()\n",
        "count_5633"
      ]
    },
    {
      "cell_type": "markdown",
      "metadata": {
        "id": "2sQ25q3NrmBn"
      },
      "source": [
        "Filter for the key-value pair where the key is 3469"
      ]
    },
    {
      "cell_type": "code",
      "execution_count": 10,
      "metadata": {
        "colab": {
          "base_uri": "https://localhost:8080/"
        },
        "id": "mprwos2FrYlG",
        "outputId": "c9b98e1d-eb6f-4d17-c6ca-4a4cd9127318"
      },
      "outputs": [
        {
          "output_type": "execute_result",
          "data": {
            "text/plain": [
              "119.0"
            ]
          },
          "metadata": {},
          "execution_count": 10
        }
      ],
      "source": [
        "filtered_counts = total_counts.filter(lambda pair: \"3469\" in pair[0])\n",
        "\n",
        "# Sum up the counts for the filtered pair\n",
        "count_3469 = filtered_counts.map(lambda pair: pair[1]).sum()\n",
        "count_3469"
      ]
    }
  ],
  "metadata": {
    "colab": {
      "provenance": []
    },
    "kernelspec": {
      "display_name": "Python 3 (ipykernel)",
      "language": "python",
      "name": "python3"
    },
    "language_info": {
      "codemirror_mode": {
        "name": "ipython",
        "version": 3
      },
      "file_extension": ".py",
      "mimetype": "text/x-python",
      "name": "python",
      "nbconvert_exporter": "python",
      "pygments_lexer": "ipython3",
      "version": "3.10.6"
    }
  },
  "nbformat": 4,
  "nbformat_minor": 0
}